{
 "cells": [
  {
   "cell_type": "markdown",
   "metadata": {},
   "source": [
    "# Text Classification - Sentiment Analysis - NLP"
   ]
  },
  {
   "cell_type": "markdown",
   "metadata": {},
   "source": [
    "Buatlah model Sentiment Analysis menggunakan traditional Machine Learning algorithm dengan feature berupa bag of words. Gunakan data pada repository: https://github.com/IndoNLP/indonlu/tree/master/dataset/smsa_doc-sentiment-prosa \n",
    "\n",
    "Lakukan eksperimen untuk variasi feature extraction yang telah diajarkan di kelas yaitu bag of words dengan traditional ML algorithm (minimal 3 algoritme). Tetapkan preprocessing apa yang digunakan."
   ]
  },
  {
   "cell_type": "code",
   "execution_count": 352,
   "metadata": {},
   "outputs": [],
   "source": [
    "import pandas as pd\n",
    "import numpy as np\n",
    "from sklearn.feature_extraction.text import CountVectorizer\n",
    "from sklearn.preprocessing import LabelEncoder\n",
    "from sklearn.linear_model import LogisticRegression\n",
    "from sklearn.svm import SVC\n",
    "from sklearn.ensemble import RandomForestClassifier\n",
    "from sklearn.metrics import classification_report\n",
    "import matplotlib.pyplot as plt\n",
    "import seaborn as sns\n",
    "from imblearn.over_sampling import RandomOverSampler\n",
    "from imblearn.under_sampling import RandomUnderSampler\n",
    "import re"
   ]
  },
  {
   "cell_type": "code",
   "execution_count": 353,
   "metadata": {},
   "outputs": [],
   "source": [
    "data_train_preprocess =  pd.read_csv('data/train_preprocess.tsv', sep='\\t', header=None, names=['text', 'label'])\n",
    "data_test_preprocess = pd.read_csv('data/test_preprocess.tsv', sep='\\t', header=None, names=['text', 'label'])\n",
    "data_test_preprocess_masked_label = pd.read_csv('data/test_preprocess_masked_label.tsv', sep='\\t', header=None, names=['text', 'label'])\n",
    "data_valid_preprocess = pd.read_csv('data/valid_preprocess.tsv', sep='\\t', header=None, names=['text', 'label'])\n",
    "\n",
    "X_train = data_train_preprocess['text']\n",
    "y_train = data_train_preprocess['label']\n",
    "\n",
    "X_test = data_test_preprocess['text']\n",
    "y_test = data_test_preprocess['label']\n",
    "\n",
    "X_test_masked_label = data_test_preprocess_masked_label['text']\n",
    "y_test_masked_label = data_test_preprocess_masked_label['label']\n",
    "\n",
    "X_valid = data_valid_preprocess['text']\n",
    "y_valid = data_valid_preprocess['label']"
   ]
  },
  {
   "cell_type": "markdown",
   "metadata": {},
   "source": [
    "## Data Analysis"
   ]
  },
  {
   "cell_type": "code",
   "execution_count": 354,
   "metadata": {},
   "outputs": [
    {
     "data": {
      "image/png": "[encoded data removed]",
      "text/plain": [
       "<Figure size 480x480 with 1 Axes>"
      ]
     },
     "metadata": {},
     "output_type": "display_data"
    }
   ],
   "source": [
    "# data analysis\n",
    "\n",
    "# Graph of the distribution of the labels\n",
    "def plot_distribution(y, title):\n",
    "    sns.set_palette('pastel')\n",
    "    plt.figure(figsize=(6, 6), dpi=80)\n",
    "    sns.countplot(x=y)\n",
    "    plt.title(title)\n",
    "    plt.show()\n",
    "    \n",
    "plot_distribution(y_train, 'Distribution of the labels in the training set')"
   ]
  },
  {
   "cell_type": "code",
   "execution_count": 355,
   "metadata": {},
   "outputs": [],
   "source": [
    "# solve the problem of class imbalance with RandomOverSampler\n",
    "\n",
    "ros = RandomOverSampler(random_state=0)\n",
    "X_train_oversample, y_train_oversample = ros.fit_resample(pd.DataFrame(X_train), pd.DataFrame(y_train))\n",
    "\n",
    "# Graph of the distribution of the labels after solving the problem of class imbalance\n",
    "y_train_oversample = y_train_oversample[\"label\"]\n",
    "X_train_oversample = X_train_oversample[\"text\"]"
   ]
  },
  {
   "cell_type": "code",
   "execution_count": 356,
   "metadata": {},
   "outputs": [],
   "source": [
    "# solve the problem of class imbalance with undersampling\n",
    "\n",
    "rus = RandomUnderSampler(random_state=0)\n",
    "X_train_undersample, y_train_undersample = rus.fit_resample(pd.DataFrame(X_train), pd.DataFrame(y_train))\n",
    "\n",
    "# Graph of the distribution of the labels after solving the problem of class imbalance\n",
    "y_train_undersample = y_train_undersample[\"label\"]\n",
    "X_train_undersample = X_train_undersample[\"text\"]"
   ]
  },
  {
   "cell_type": "markdown",
   "metadata": {},
   "source": [
    "## Preprocessing"
   ]
  },
  {
   "cell_type": "code",
   "execution_count": 421,
   "metadata": {},
   "outputs": [],
   "source": [
    "def preprocess_text(text: str) -> str:\n",
    "    text = text.lower()\n",
    "    text = text.replace('\\n', ' ').replace('\\r', ' ').replace('\\t', ' ')\n",
    "    # entity masking\n",
    "    # url masking\n",
    "    text = re.sub(r'http\\S+', 'url', text)\n",
    "    # email masking\n",
    "    text = re.sub(r'\\S+@\\S+', 'email', text)\n",
    "    # phone number masking 9 digits or more, with or without space, with - or without\n",
    "    text = re.sub(r'(\\d{9,}|\\d{3,}[-\\s]\\d{3,}[-\\s]\\d{3,})', 'phone_number', text)\n",
    "    return text\n",
    "\n",
    "X_train_oversample = X_train_oversample.apply(lambda x: preprocess_text(x))\n",
    "X_train_undersample = X_train_undersample.apply(lambda x: preprocess_text(x))\n",
    "X_train_normal = X_train.apply(lambda x: preprocess_text(x))\n",
    "\n",
    "X_test = X_test.apply(lambda x: preprocess_text(x))\n",
    "X_test_masked_label = X_test_masked_label.apply(lambda x: preprocess_text(x))\n",
    "X_valid = X_valid.apply(lambda x: preprocess_text(x))"
   ]
  },
  {
   "cell_type": "code",
   "execution_count": 422,
   "metadata": {},
   "outputs": [],
   "source": [
    "# Initialize vectorizer globally so the same one can be used for both train and test\n",
    "\n",
    "# Function to fit on training data and transform to bag of words\n",
    "def bag_of_words(texts_train: pd.Series, texts_test: pd.Series) -> np.ndarray:\n",
    "    vectorizer = CountVectorizer(max_features=1000)\n",
    "    X_train = vectorizer.fit_transform(texts_train).toarray()\n",
    "    X_test = vectorizer.transform(texts_test).toarray()\n",
    "    return X_train, X_test"
   ]
  },
  {
   "cell_type": "code",
   "execution_count": 423,
   "metadata": {},
   "outputs": [
    {
     "name": "stdout",
     "output_type": "stream",
     "text": [
      "{0: 'negative', 1: 'neutral', 2: 'positive'}\n"
     ]
    }
   ],
   "source": [
    "# Encoding the labels\n",
    "y_train_oversample = LabelEncoder().fit_transform(y_train_oversample)\n",
    "y_train_undersample = LabelEncoder().fit_transform(y_train_undersample)\n",
    "y_train_normal = LabelEncoder().fit_transform(y_train)\n",
    "\n",
    "y_test = LabelEncoder().fit_transform(y_test)\n",
    "y_test_masked_label = LabelEncoder().fit_transform(y_test_masked_label)\n",
    "y_valid = LabelEncoder().fit_transform(y_valid)\n",
    "\n",
    "# display the label encoding and its corresponding class\n",
    "label_mapping = dict(zip(LabelEncoder().fit(y_train).transform(LabelEncoder().fit(y_train).classes_), LabelEncoder().fit(y_train).classes_))\n",
    "print(label_mapping)"
   ]
  },
  {
   "cell_type": "markdown",
   "metadata": {},
   "source": [
    "## Model"
   ]
  },
  {
   "cell_type": "markdown",
   "metadata": {},
   "source": [
    "### Logistic Regression "
   ]
  },
  {
   "cell_type": "code",
   "execution_count": 386,
   "metadata": {},
   "outputs": [],
   "source": [
    "# Model training\n",
    "# Logistic Regression\n",
    "def logistic_regression(X_train, y_train, X_test, y_test):\n",
    "    X_train, X_test = bag_of_words(X_train, X_test)\n",
    "    # Model training\n",
    "    logistic_regression = LogisticRegression(max_iter=1000)\n",
    "    logistic_regression.fit(X_train, y_train)\n",
    "    \n",
    "    # Model evaluation\n",
    "    y_pred = logistic_regression.predict(X_test)\n",
    "    print(classification_report(y_test, y_pred))\n",
    "    \n",
    "    return logistic_regression"
   ]
  },
  {
   "cell_type": "code",
   "execution_count": 387,
   "metadata": {},
   "outputs": [
    {
     "name": "stdout",
     "output_type": "stream",
     "text": [
      "Logistic Regression\n",
      "normal\n",
      "              precision    recall  f1-score   support\n",
      "\n",
      "           0       0.73      0.91      0.81       204\n",
      "           1       0.81      0.44      0.57        88\n",
      "           2       0.82      0.78      0.80       208\n",
      "\n",
      "    accuracy                           0.77       500\n",
      "   macro avg       0.79      0.71      0.73       500\n",
      "weighted avg       0.78      0.77      0.76       500\n",
      "\n",
      "undersample\n",
      "              precision    recall  f1-score   support\n",
      "\n",
      "           0       0.65      0.91      0.76       204\n",
      "           1       0.55      0.74      0.63        88\n",
      "           2       0.89      0.41      0.56       208\n",
      "\n",
      "    accuracy                           0.67       500\n",
      "   macro avg       0.70      0.69      0.65       500\n",
      "weighted avg       0.73      0.67      0.65       500\n",
      "\n",
      "oversample\n",
      "              precision    recall  f1-score   support\n",
      "\n",
      "           0       0.73      0.92      0.81       204\n",
      "           1       0.65      0.58      0.61        88\n",
      "           2       0.87      0.68      0.76       208\n",
      "\n",
      "    accuracy                           0.76       500\n",
      "   macro avg       0.75      0.73      0.73       500\n",
      "weighted avg       0.77      0.76      0.76       500\n",
      "\n"
     ]
    }
   ],
   "source": [
    "# Logistic Regression\n",
    "print('Logistic Regression')\n",
    "print('normal')\n",
    "logistic_regression(X_train_normal, y_train_normal, X_test, y_test)\n",
    "print('undersample')\n",
    "logistic_regression(X_train_undersample, y_train_undersample, X_test, y_test)\n",
    "print('oversample')\n",
    "logrec = logistic_regression(X_train_oversample, y_train_oversample, X_test, y_test)"
   ]
  },
  {
   "cell_type": "code",
   "execution_count": 424,
   "metadata": {},
   "outputs": [
    {
     "name": "stdout",
     "output_type": "stream",
     "text": [
      "              precision    recall  f1-score   support\n",
      "\n",
      "           0       1.00      1.00      1.00         1\n",
      "           1       1.00      1.00      1.00         1\n",
      "           2       1.00      1.00      1.00         1\n",
      "\n",
      "    accuracy                           1.00         3\n",
      "   macro avg       1.00      1.00      1.00         3\n",
      "weighted avg       1.00      1.00      1.00         3\n",
      "\n"
     ]
    },
    {
     "data": {
      "text/html": [
       "<style>#sk-container-id-13 {color: black;}#sk-container-id-13 pre{padding: 0;}#sk-container-id-13 div.sk-toggleable {background-color: white;}#sk-container-id-13 label.sk-toggleable__label {cursor: pointer;display: block;width: 100%;margin-bottom: 0;padding: 0.3em;box-sizing: border-box;text-align: center;}#sk-container-id-13 label.sk-toggleable__label-arrow:before {content: \"▸\";float: left;margin-right: 0.25em;color: #696969;}#sk-container-id-13 label.sk-toggleable__label-arrow:hover:before {color: black;}#sk-container-id-13 div.sk-estimator:hover label.sk-toggleable__label-arrow:before {color: black;}#sk-container-id-13 div.sk-toggleable__content {max-height: 0;max-width: 0;overflow: hidden;text-align: left;background-color: #f0f8ff;}#sk-container-id-13 div.sk-toggleable__content pre {margin: 0.2em;color: black;border-radius: 0.25em;background-color: #f0f8ff;}#sk-container-id-13 input.sk-toggleable__control:checked~div.sk-toggleable__content {max-height: 200px;max-width: 100%;overflow: auto;}#sk-container-id-13 input.sk-toggleable__control:checked~label.sk-toggleable__label-arrow:before {content: \"▾\";}#sk-container-id-13 div.sk-estimator input.sk-toggleable__control:checked~label.sk-toggleable__label {background-color: #d4ebff;}#sk-container-id-13 div.sk-label input.sk-toggleable__control:checked~label.sk-toggleable__label {background-color: #d4ebff;}#sk-container-id-13 input.sk-hidden--visually {border: 0;clip: rect(1px 1px 1px 1px);clip: rect(1px, 1px, 1px, 1px);height: 1px;margin: -1px;overflow: hidden;padding: 0;position: absolute;width: 1px;}#sk-container-id-13 div.sk-estimator {font-family: monospace;background-color: #f0f8ff;border: 1px dotted black;border-radius: 0.25em;box-sizing: border-box;margin-bottom: 0.5em;}#sk-container-id-13 div.sk-estimator:hover {background-color: #d4ebff;}#sk-container-id-13 div.sk-parallel-item::after {content: \"\";width: 100%;border-bottom: 1px solid gray;flex-grow: 1;}#sk-container-id-13 div.sk-label:hover label.sk-toggleable__label {background-color: #d4ebff;}#sk-container-id-13 div.sk-serial::before {content: \"\";position: absolute;border-left: 1px solid gray;box-sizing: border-box;top: 0;bottom: 0;left: 50%;z-index: 0;}#sk-container-id-13 div.sk-serial {display: flex;flex-direction: column;align-items: center;background-color: white;padding-right: 0.2em;padding-left: 0.2em;position: relative;}#sk-container-id-13 div.sk-item {position: relative;z-index: 1;}#sk-container-id-13 div.sk-parallel {display: flex;align-items: stretch;justify-content: center;background-color: white;position: relative;}#sk-container-id-13 div.sk-item::before, #sk-container-id-13 div.sk-parallel-item::before {content: \"\";position: absolute;border-left: 1px solid gray;box-sizing: border-box;top: 0;bottom: 0;left: 50%;z-index: -1;}#sk-container-id-13 div.sk-parallel-item {display: flex;flex-direction: column;z-index: 1;position: relative;background-color: white;}#sk-container-id-13 div.sk-parallel-item:first-child::after {align-self: flex-end;width: 50%;}#sk-container-id-13 div.sk-parallel-item:last-child::after {align-self: flex-start;width: 50%;}#sk-container-id-13 div.sk-parallel-item:only-child::after {width: 0;}#sk-container-id-13 div.sk-dashed-wrapped {border: 1px dashed gray;margin: 0 0.4em 0.5em 0.4em;box-sizing: border-box;padding-bottom: 0.4em;background-color: white;}#sk-container-id-13 div.sk-label label {font-family: monospace;font-weight: bold;display: inline-block;line-height: 1.2em;}#sk-container-id-13 div.sk-label-container {text-align: center;}#sk-container-id-13 div.sk-container {/* jupyter's `normalize.less` sets `[hidden] { display: none; }` but bootstrap.min.css set `[hidden] { display: none !important; }` so we also need the `!important` here to be able to override the default hidden behavior on the sphinx rendered scikit-learn.org. See: https://github.com/scikit-learn/scikit-learn/issues/21755 */display: inline-block !important;position: relative;}#sk-container-id-13 div.sk-text-repr-fallback {display: none;}</style><div id=\"sk-container-id-13\" class=\"sk-top-container\"><div class=\"sk-text-repr-fallback\"><pre>LogisticRegression(max_iter=1000)</pre><b>In a Jupyter environment, please rerun this cell to show the HTML representation or trust the notebook. <br />On GitHub, the HTML representation is unable to render, please try loading this page with nbviewer.org.</b></div><div class=\"sk-container\" hidden><div class=\"sk-item\"><div class=\"sk-estimator sk-toggleable\"><input class=\"sk-toggleable__control sk-hidden--visually\" id=\"sk-estimator-id-13\" type=\"checkbox\" checked><label for=\"sk-estimator-id-13\" class=\"sk-toggleable__label sk-toggleable__label-arrow\">LogisticRegression</label><div class=\"sk-toggleable__content\"><pre>LogisticRegression(max_iter=1000)</pre></div></div></div></div></div>"
      ],
      "text/plain": [
       "LogisticRegression(max_iter=1000)"
      ]
     },
     "execution_count": 424,
     "metadata": {},
     "output_type": "execute_result"
    }
   ],
   "source": [
    "text = ['aku buruk sekali', 'saya sangat senang', 'sekolah adalah tempat belajar']\n",
    "text = [preprocess_text(x) for x in text]\n",
    "text = pd.Series(text)\n",
    "vectorizer = CountVectorizer(max_features=1000)\n",
    "y_predict = np.array([0, 2, 1])\n",
    "logistic_regression(X_train_normal, y_train_normal, text, y_predict)"
   ]
  },
  {
   "cell_type": "markdown",
   "metadata": {},
   "source": [
    "### Support Vector Machine (SVM)"
   ]
  },
  {
   "cell_type": "code",
   "execution_count": 362,
   "metadata": {},
   "outputs": [],
   "source": [
    "# Model training\n",
    "# Support Vector Machine\n",
    "def support_vector_machine(X_train, y_train, X_test, y_test):\n",
    "    X_train, X_test = bag_of_words(X_train, X_test)\n",
    "    # Model training\n",
    "    svm = SVC(kernel='linear')\n",
    "    svm.fit(X_train, y_train)\n",
    "    \n",
    "    # Model evaluation\n",
    "    y_pred = svm.predict(X_test)\n",
    "    print(classification_report(y_test, y_pred))\n",
    "    \n",
    "    return svm"
   ]
  },
  {
   "cell_type": "code",
   "execution_count": 363,
   "metadata": {},
   "outputs": [
    {
     "name": "stdout",
     "output_type": "stream",
     "text": [
      "Support Vector Machine\n",
      "normal\n",
      "              precision    recall  f1-score   support\n",
      "\n",
      "           0       0.69      0.92      0.79       204\n",
      "           1       0.74      0.44      0.55        88\n",
      "           2       0.85      0.71      0.77       208\n",
      "\n",
      "    accuracy                           0.75       500\n",
      "   macro avg       0.76      0.69      0.71       500\n",
      "weighted avg       0.76      0.75      0.74       500\n",
      "\n",
      "undersample\n",
      "              precision    recall  f1-score   support\n",
      "\n",
      "           0       0.62      0.90      0.74       204\n",
      "           1       0.54      0.66      0.59        88\n",
      "           2       0.88      0.42      0.57       208\n",
      "\n",
      "    accuracy                           0.66       500\n",
      "   macro avg       0.68      0.66      0.63       500\n",
      "weighted avg       0.71      0.66      0.64       500\n",
      "\n",
      "oversample\n",
      "              precision    recall  f1-score   support\n",
      "\n",
      "           0       0.66      0.92      0.77       204\n",
      "           1       0.67      0.49      0.57        88\n",
      "           2       0.88      0.64      0.74       208\n",
      "\n",
      "    accuracy                           0.73       500\n",
      "   macro avg       0.74      0.68      0.69       500\n",
      "weighted avg       0.75      0.73      0.72       500\n",
      "\n"
     ]
    }
   ],
   "source": [
    "# Support Vector Machine\n",
    "print('Support Vector Machine')\n",
    "print('normal')\n",
    "support_vector_machine(X_train_normal, y_train_normal, X_test, y_test)\n",
    "print('undersample')\n",
    "support_vector_machine(X_train_undersample, y_train_undersample, X_test, y_test)\n",
    "print('oversample')\n",
    "svm = support_vector_machine(X_train_oversample, y_train_oversample, X_test, y_test)"
   ]
  },
  {
   "cell_type": "markdown",
   "metadata": {},
   "source": [
    "### Random Forest"
   ]
  },
  {
   "cell_type": "code",
   "execution_count": 364,
   "metadata": {},
   "outputs": [],
   "source": [
    "# Model training\n",
    "# Random Forest\n",
    "def random_forest(X_train, y_train, X_test, y_test):\n",
    "    X_train, X_test = bag_of_words(X_train, X_test)\n",
    "    # Model training\n",
    "    random_forest = RandomForestClassifier(n_estimators=100)\n",
    "    random_forest.fit(X_train, y_train)\n",
    "    \n",
    "    # Model evaluation\n",
    "    y_pred = random_forest.predict(X_test)\n",
    "    print(classification_report(y_test, y_pred))\n",
    "    \n",
    "    return random_forest"
   ]
  },
  {
   "cell_type": "code",
   "execution_count": 365,
   "metadata": {},
   "outputs": [
    {
     "name": "stdout",
     "output_type": "stream",
     "text": [
      "Random Forest\n",
      "normal\n",
      "              precision    recall  f1-score   support\n",
      "\n",
      "           0       0.59      0.91      0.72       204\n",
      "           1       0.65      0.27      0.38        88\n",
      "           2       0.81      0.58      0.68       208\n",
      "\n",
      "    accuracy                           0.66       500\n",
      "   macro avg       0.68      0.59      0.59       500\n",
      "weighted avg       0.69      0.66      0.64       500\n",
      "\n",
      "undersample\n",
      "              precision    recall  f1-score   support\n",
      "\n",
      "           0       0.56      0.94      0.70       204\n",
      "           1       0.53      0.57      0.55        88\n",
      "           2       0.84      0.25      0.39       208\n",
      "\n",
      "    accuracy                           0.59       500\n",
      "   macro avg       0.64      0.59      0.55       500\n",
      "weighted avg       0.67      0.59      0.54       500\n",
      "\n",
      "oversample\n",
      "              precision    recall  f1-score   support\n",
      "\n",
      "           0       0.58      0.93      0.71       204\n",
      "           1       0.62      0.30      0.40        88\n",
      "           2       0.81      0.50      0.62       208\n",
      "\n",
      "    accuracy                           0.64       500\n",
      "   macro avg       0.67      0.58      0.58       500\n",
      "weighted avg       0.68      0.64      0.62       500\n",
      "\n"
     ]
    }
   ],
   "source": [
    "# Random Forest\n",
    "print('Random Forest')\n",
    "print('normal')\n",
    "random_forest(X_train_normal, y_train_normal, X_test, y_test)\n",
    "print('undersample')\n",
    "random_forest(X_train_undersample, y_train_undersample, X_test, y_test)\n",
    "print('oversample')\n",
    "rf = random_forest(X_train_oversample, y_train_oversample, X_test, y_test)"
   ]
  },
  {
   "cell_type": "code",
   "execution_count": 376,
   "metadata": {},
   "outputs": [],
   "source": [
    "from sklearn.feature_extraction.text import CountVectorizer\n",
    "from sklearn.feature_extraction.text import TfidfTransformer\n",
    "from sklearn.pipeline import Pipeline\n",
    "from sklearn.linear_model import SGDClassifier\n",
    "from sklearn.model_selection import GridSearchCV\n",
    "\n",
    "# Grid search to find the best parameters\n",
    "text_clf = Pipeline([\n",
    "    ('vect', CountVectorizer()), # Bag of words\n",
    "    ('tfidf', TfidfTransformer()), # TF-IDF\n",
    "    ('clf', SGDClassifier()), # Stochastic Gradient Descent\n",
    "])\n",
    "\n",
    "parameters = {\n",
    "    'vect__ngram_range': [(1, 1), (1, 2), (2, 2)],\n",
    "    'tfidf__use_idf': (True, False),\n",
    "    'clf__alpha': (1e-2, 1e-3),\n",
    "    'clf__penalty': ('l2', 'elasticnet'),\n",
    "}\n",
    "\n",
    "gs_clf = GridSearchCV(text_clf, parameters, cv=5, n_jobs=-1)"
   ]
  },
  {
   "cell_type": "code",
   "execution_count": 377,
   "metadata": {},
   "outputs": [
    {
     "name": "stdout",
     "output_type": "stream",
     "text": [
      "0.8314545454545454\n"
     ]
    }
   ],
   "source": [
    "gs_clf = gs_clf.fit(X_train_normal, y_train_normal)\n",
    "print(gs_clf.best_score_)"
   ]
  },
  {
   "cell_type": "code",
   "execution_count": 378,
   "metadata": {},
   "outputs": [
    {
     "name": "stdout",
     "output_type": "stream",
     "text": [
      "0.840589664832754\n"
     ]
    }
   ],
   "source": [
    "gs_clf_under = gs_clf.fit(X_train_undersample, y_train_undersample)\n",
    "print(gs_clf_under.best_score_)"
   ]
  },
  {
   "cell_type": "code",
   "execution_count": 379,
   "metadata": {},
   "outputs": [
    {
     "name": "stdout",
     "output_type": "stream",
     "text": [
      "0.9112132211773677\n"
     ]
    }
   ],
   "source": [
    "gs_clf_over = gs_clf.fit(X_train_oversample, y_train_oversample)\n",
    "print(gs_clf_over.best_score_)"
   ]
  },
  {
   "cell_type": "code",
   "execution_count": 380,
   "metadata": {},
   "outputs": [
    {
     "name": "stdout",
     "output_type": "stream",
     "text": [
      "{'clf__alpha': 0.001, 'clf__penalty': 'l2', 'tfidf__use_idf': True, 'vect__ngram_range': (2, 2)}\n",
      "              precision    recall  f1-score   support\n",
      "\n",
      "           0       0.76      0.76      0.76       394\n",
      "           1       0.74      0.57      0.65       131\n",
      "           2       0.87      0.91      0.89       735\n",
      "\n",
      "    accuracy                           0.83      1260\n",
      "   macro avg       0.79      0.75      0.77      1260\n",
      "weighted avg       0.82      0.83      0.82      1260\n",
      "\n"
     ]
    }
   ],
   "source": [
    "# result model\n",
    "# print the best parameters\n",
    "print(gs_clf_over.best_params_)\n",
    "\n",
    "y_pred = gs_clf_over.predict(X_valid)\n",
    "print(classification_report(y_valid, y_pred))"
   ]
  },
  {
   "cell_type": "code",
   "execution_count": 381,
   "metadata": {},
   "outputs": [
    {
     "name": "stdout",
     "output_type": "stream",
     "text": [
      "              precision    recall  f1-score   support\n",
      "\n",
      "           0       0.65      0.87      0.74       204\n",
      "           1       0.53      0.42      0.47        88\n",
      "           2       0.75      0.56      0.64       208\n",
      "\n",
      "    accuracy                           0.66       500\n",
      "   macro avg       0.64      0.62      0.62       500\n",
      "weighted avg       0.67      0.66      0.65       500\n",
      "\n"
     ]
    }
   ],
   "source": [
    "y_pred = gs_clf_over.predict(X_test)\n",
    "print(classification_report(y_test, y_pred))"
   ]
  }
 ],
 "metadata": {
  "kernelspec": {
   "display_name": "Python 3",
   "language": "python",
   "name": "python3"
  },
  "language_info": {
   "codemirror_mode": {
    "name": "ipython",
    "version": 3
   },
   "file_extension": ".py",
   "mimetype": "text/x-python",
   "name": "python",
   "nbconvert_exporter": "python",
   "pygments_lexer": "ipython3",
   "version": "3.12.2"
  }
 },
 "nbformat": 4,
 "nbformat_minor": 2
}
